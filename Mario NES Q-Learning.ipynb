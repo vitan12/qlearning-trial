{
 "cells": [
  {
   "cell_type": "code",
   "execution_count": null,
   "metadata": {},
   "outputs": [],
   "source": [
    "# Using Q-Learning reinforcement techniques\n",
    "# and an epsilon greedy strategy, train the model to excel in the game\n",
    "\n",
    "# Environment from https://pypi.org/project/gym-super-mario-bros/"
   ]
  },
  {
   "cell_type": "code",
   "execution_count": 1,
   "metadata": {},
   "outputs": [
    {
     "name": "stdout",
     "output_type": "stream",
     "text": [
      "[[[104 136 252]\n",
      "  [104 136 252]\n",
      "  [104 136 252]\n",
      "  ...\n",
      "  [104 136 252]\n",
      "  [104 136 252]\n",
      "  [104 136 252]]\n",
      "\n",
      " [[104 136 252]\n",
      "  [104 136 252]\n",
      "  [104 136 252]\n",
      "  ...\n",
      "  [104 136 252]\n",
      "  [104 136 252]\n",
      "  [104 136 252]]\n",
      "\n",
      " [[104 136 252]\n",
      "  [104 136 252]\n",
      "  [104 136 252]\n",
      "  ...\n",
      "  [104 136 252]\n",
      "  [104 136 252]\n",
      "  [104 136 252]]\n",
      "\n",
      " ...\n",
      "\n",
      " [[228  92  16]\n",
      "  [228  92  16]\n",
      "  [228  92  16]\n",
      "  ...\n",
      "  [228  92  16]\n",
      "  [228  92  16]\n",
      "  [228  92  16]]\n",
      "\n",
      " [[228  92  16]\n",
      "  [228  92  16]\n",
      "  [228  92  16]\n",
      "  ...\n",
      "  [228  92  16]\n",
      "  [228  92  16]\n",
      "  [228  92  16]]\n",
      "\n",
      " [[228  92  16]\n",
      "  [228  92  16]\n",
      "  [228  92  16]\n",
      "  ...\n",
      "  [228  92  16]\n",
      "  [228  92  16]\n",
      "  [228  92  16]]]\n",
      "0\n",
      "False\n",
      "{'coins': 0, 'flag_get': False, 'life': 2, 'score': 0, 'stage': 1, 'status': 'small', 'time': 400, 'world': 1, 'x_pos': 40}\n"
     ]
    }
   ],
   "source": [
    "from nes_py.wrappers import BinarySpaceToDiscreteSpaceEnv\n",
    "import gym_super_mario_bros\n",
    "from gym_super_mario_bros.actions import SIMPLE_MOVEMENT\n",
    "\n",
    "#Loads in the level 1-1. Can be changed. Alias for gym.make() \n",
    "env = gym_super_mario_bros.make('SuperMarioBros-1-1-v3')\n",
    "\n",
    "# Loads in the control set SIMPLE_MOVEMENT which includes 7 different inputs to control mario, ignoring \n",
    "# other valid NES movement inputs. \n",
    "env = BinarySpaceToDiscreteSpaceEnv(env, SIMPLE_MOVEMENT)\n",
    "\n",
    "done = True\n",
    "for step in range(1):\n",
    "    if done:\n",
    "        state = env.reset()\n",
    "    state, reward, done, info = env.step(env.action_space.sample())\n",
    "    print(state)\n",
    "    print(reward)\n",
    "    print(done)\n",
    "    print(info)\n",
    "    env.render()\n",
    "\n",
    "env.close()"
   ]
  }
 ],
 "metadata": {
  "kernelspec": {
   "display_name": "Python 3",
   "language": "python",
   "name": "python3"
  },
  "language_info": {
   "codemirror_mode": {
    "name": "ipython",
    "version": 3
   },
   "file_extension": ".py",
   "mimetype": "text/x-python",
   "name": "python",
   "nbconvert_exporter": "python",
   "pygments_lexer": "ipython3",
   "version": "3.6.5"
  }
 },
 "nbformat": 4,
 "nbformat_minor": 2
}
